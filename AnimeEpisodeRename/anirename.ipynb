{
 "cells": [
  {
   "cell_type": "markdown",
   "metadata": {},
   "source": [
    "Set the values of *animeName*, *seasonNumber*, and *anidb_id* as your need.  \n",
    "In place of `paste directory\\path\\in here` paste the path to directory where your anime video files are located."
   ]
  },
  {
   "cell_type": "code",
   "execution_count": 6,
   "metadata": {},
   "outputs": [],
   "source": [
    "import requests\n",
    "import os\n",
    "from bs4 import BeautifulSoup\n",
    "\n",
    "####################### FILL OPTIONS HERE #######################\n",
    "\n",
    "#necessary\n",
    "animeName='One Piece'\n",
    "seasonNumber=1\n",
    "\n",
    "#just google search your 'anime name + anidb' on google, go to the anime page on anidb website\n",
    "#and fill the id number at the end of the link, for example if you search one piece\n",
    "#the link is https://anidb.net/anime/69 hence the anidb_id would be 69\n",
    "anidb_id=69\n",
    "directory=r'paste directory\\path\\in here'\n",
    "\n",
    "#optional\n",
    "groupName=''\n"
   ]
  },
  {
   "cell_type": "code",
   "execution_count": 7,
   "metadata": {},
   "outputs": [
    {
     "name": "stdout",
     "output_type": "stream",
     "text": [
      "Filenames fetched.\n"
     ]
    }
   ],
   "source": [
    "os.chdir(directory)\n",
    "headers = {'User-Agent':'Mozilla/5.0 (Windows NT 10.0; Win64; x64; rv:94.0) Gecko/20100101 Firefox/94.0'}\n",
    "url = 'https://anidb.net/anime/'+str(anidb_id)\n",
    "r=requests.get(url, headers=headers)\n",
    "soup=BeautifulSoup(r.text,'html.parser')\n",
    "tableRows=soup.findAll('tr',attrs={\"itemprop\":\"episode\"})\n",
    "print(\"Filenames fetched.\")"
   ]
  },
  {
   "cell_type": "code",
   "execution_count": 9,
   "metadata": {},
   "outputs": [],
   "source": [
    "def onlyFiles(path):\n",
    "    for file in os.listdir(path):\n",
    "        if os.path.isfile(os.path.join(path, file)) and '.mkv' in file:\n",
    "            yield file"
   ]
  },
  {
   "cell_type": "code",
   "execution_count": 14,
   "metadata": {},
   "outputs": [
    {
     "name": "stdout",
     "output_type": "stream",
     "text": [
      "One Piece - S01E01 - Im Luffy! The Man Whos Gonna Be King of the Pirates!.mkv  ==>  One Piece - S01E01 - Im Luffy! The Man Whos Gonna Be King of the Pirates!.mkv\n",
      "------------------------------------------------------------------------------\n",
      "One Piece - S01E02 - Enter the Great Swordsman! Pirate Hunter Roronoa Zoro!.mkv  ==>  One Piece - S01E02 - Enter the Great Swordsman! Pirate Hunter Roronoa Zoro!.mkv\n",
      "------------------------------------------------------------------------------\n",
      "One Piece - S01E03 - Morgan vs. Luffy! Whos the Mysterious Pretty Girl.mkv  ==>  One Piece - S01E03 - Morgan vs. Luffy! Whos the Mysterious Pretty Girl.mkv\n",
      "------------------------------------------------------------------------------\n",
      "One Piece - S01E04 - Luffys Past! Enter Red-Haired Shanks!.mkv  ==>  One Piece - S01E04 - Luffys Past! Enter Red-Haired Shanks!.mkv\n",
      "------------------------------------------------------------------------------\n",
      "One Piece - S01E05 - A Terrifying Mysterious Power! Captain Buggy, the Clown Pirate!.mkv  ==>  One Piece - S01E05 - A Terrifying Mysterious Power! Captain Buggy, the Clown Pirate!.mkv\n",
      "------------------------------------------------------------------------------\n",
      "One Piece - S01E06 - Desperate Situation! Beast Tamer Mohji vs. Luffy!.mkv  ==>  One Piece - S01E06 - Desperate Situation! Beast Tamer Mohji vs. Luffy!.mkv\n",
      "------------------------------------------------------------------------------\n",
      "One Piece - S01E07 - Epic Showdown! Swordsman Zoro vs. Acrobat Cabaji!.mkv  ==>  One Piece - S01E07 - Epic Showdown! Swordsman Zoro vs. Acrobat Cabaji!.mkv\n",
      "------------------------------------------------------------------------------\n",
      "One Piece - S01E08 - Who Is the Victor Devil Fruit Power Showdown!.mkv  ==>  One Piece - S01E08 - Who Is the Victor Devil Fruit Power Showdown!.mkv\n",
      "------------------------------------------------------------------------------\n",
      "One Piece - S01E09 - The Honorable Liar Captain Usopp!.mkv  ==>  One Piece - S01E09 - The Honorable Liar Captain Usopp!.mkv\n",
      "------------------------------------------------------------------------------\n",
      "One Piece - S01E10 - The Weirdest Guy Ever! Jango the Hypnotist!.mkv  ==>  One Piece - S01E10 - The Weirdest Guy Ever! Jango the Hypnotist!.mkv\n",
      "------------------------------------------------------------------------------\n",
      "One Piece - S01E11 - Expose the Plot! Pirate Butler, Captain Kuro!.mkv  ==>  One Piece - S01E11 - Expose the Plot! Pirate Butler, Captain Kuro!.mkv\n",
      "------------------------------------------------------------------------------\n",
      "One Piece - S01E12 - Clash with the Black Cat Pirates! The Great Battle on the Slope!.mkv  ==>  One Piece - S01E12 - Clash with the Black Cat Pirates! The Great Battle on the Slope!.mkv\n",
      "------------------------------------------------------------------------------\n",
      "One Piece - S01E13 - The Terrifying Duo! Meowban Brothers vs. Zoro!.mkv  ==>  One Piece - S01E13 - The Terrifying Duo! Meowban Brothers vs. Zoro!.mkv\n",
      "------------------------------------------------------------------------------\n",
      "One Piece - S01E14 - Luffy Back in Action! Miss Kayas Desperate Resistance!.mkv  ==>  One Piece - S01E14 - Luffy Back in Action! Miss Kayas Desperate Resistance!.mkv\n",
      "------------------------------------------------------------------------------\n",
      "One Piece - S01E15 - Beat Kuro! Usopp the Mans Tearful Resolve!.mkv  ==>  One Piece - S01E15 - Beat Kuro! Usopp the Mans Tearful Resolve!.mkv\n",
      "------------------------------------------------------------------------------\n",
      "One Piece - S01E16 - Protect Kaya! The Usopp Pirates Great Efforts!.mkv  ==>  One Piece - S01E16 - Protect Kaya! The Usopp Pirates Great Efforts!.mkv\n",
      "------------------------------------------------------------------------------\n",
      "One Piece - S01E17 - Anger Explosion! Kuro vs. Luffy! How It Ends!.mkv  ==>  One Piece - S01E17 - Anger Explosion! Kuro vs. Luffy! How It Ends!.mkv\n",
      "------------------------------------------------------------------------------\n",
      "One Piece - S01E18 - Youre the Weird Creature! Gaimon and His Strange Friends!.mkv  ==>  One Piece - S01E18 - Youre the Weird Creature! Gaimon and His Strange Friends!.mkv\n",
      "------------------------------------------------------------------------------\n",
      "One Piece - S01E19 - The Three-Sword Styles Past! Zoro and Kuinas Vow!.mkv  ==>  One Piece - S01E19 - The Three-Sword Styles Past! Zoro and Kuinas Vow!.mkv\n",
      "------------------------------------------------------------------------------\n",
      "One Piece - S01E20 - Famous Cook! Sanji of the Sea Restaurant!.mkv  ==>  One Piece - S01E20 - Famous Cook! Sanji of the Sea Restaurant!.mkv\n",
      "------------------------------------------------------------------------------\n",
      "One Piece - S01E21 - Unwelcome Customer! Sanjis Food and Ghins Debt!.mkv  ==>  One Piece - S01E21 - Unwelcome Customer! Sanjis Food and Ghins Debt!.mkv\n",
      "------------------------------------------------------------------------------\n",
      "One Piece - S01E22 - The Strongest Pirate Fleet! Commodore Don Krieg!.mkv  ==>  One Piece - S01E22 - The Strongest Pirate Fleet! Commodore Don Krieg!.mkv\n",
      "------------------------------------------------------------------------------\n",
      "------------------------------------------------------------------------------\n",
      "22 files renamed.\n"
     ]
    }
   ],
   "source": [
    "count=0\n",
    "for row, filename in zip(tableRows, onlyFiles('.')):\n",
    "    epiNumber = row.find('abbr',attrs={\"itemprop\":\"episodeNumber\"}).text.strip()\n",
    "    title = row.find('label').text.strip()\n",
    "\n",
    "    #You can tweak this string to change the format in which the files are renamed, it's intuitive.\n",
    "    #By defualt it renames like: One Piece - S01E01 - Im Luffy! The Man Whos Gonna Be King of the Pirates!.mkv\n",
    "    newFileName = animeName+\" - S\"+str(seasonNumber).zfill(2)+\"E\"+epiNumber.zfill(2)+\" - \"+title+\".mkv\"\n",
    "\n",
    "    chars = \"\\\\`\\'\\\"/*<>?|:\"\n",
    "    for c in chars:\n",
    "        if c in newFileName:\n",
    "            newFileName = newFileName.replace(c, \"\")\n",
    "\n",
    "    if '.mkv' in filename:\n",
    "        count+=1\n",
    "        os.rename(filename, newFileName)\n",
    "        print(filename + '  ==>  ' + newFileName)\n",
    "        print('------------------------------------------------------------------------------')\n",
    "print('------------------------------------------------------------------------------')\n",
    "print(str(count)+\" files renamed.\")"
   ]
  }
 ],
 "metadata": {
  "interpreter": {
   "hash": "fcf1d46d271c46101d6967829d4a5f475342a2ce08e4944f989fbcdc9bb23690"
  },
  "kernelspec": {
   "display_name": "Python 3.9.6 64-bit",
   "language": "python",
   "name": "python3"
  },
  "language_info": {
   "codemirror_mode": {
    "name": "ipython",
    "version": 3
   },
   "file_extension": ".py",
   "mimetype": "text/x-python",
   "name": "python",
   "nbconvert_exporter": "python",
   "pygments_lexer": "ipython3",
   "version": "3.9.6"
  },
  "orig_nbformat": 4
 },
 "nbformat": 4,
 "nbformat_minor": 2
}
